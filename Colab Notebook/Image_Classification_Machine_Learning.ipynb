{
  "nbformat": 4,
  "nbformat_minor": 0,
  "metadata": {
    "colab": {
      "provenance": [],
      "gpuType": "T4",
      "include_colab_link": true
    },
    "kernelspec": {
      "name": "python3",
      "display_name": "Python 3"
    },
    "language_info": {
      "name": "python"
    },
    "accelerator": "GPU"
  },
  "cells": [
    {
      "cell_type": "markdown",
      "metadata": {
        "id": "view-in-github",
        "colab_type": "text"
      },
      "source": [
        "<a href=\"https://colab.research.google.com/github/vivek09thakur/ML_Image_Classification/blob/main/Colab%20Notebook/Image_Classification_Machine_Learning.ipynb\" target=\"_parent\"><img src=\"https://colab.research.google.com/assets/colab-badge.svg\" alt=\"Open In Colab\"/></a>"
      ]
    },
    {
      "cell_type": "markdown",
      "source": [
        "## **Image Classification Using Machine Learing Model**"
      ],
      "metadata": {
        "id": "SKmkv1--lsXQ"
      }
    },
    {
      "cell_type": "markdown",
      "source": [
        "- **Ignore Warnigs**"
      ],
      "metadata": {
        "id": "zPG9T5B0mfcL"
      }
    },
    {
      "cell_type": "code",
      "source": [
        "import warnings\n",
        "warnings.filterwarnings('ignore')"
      ],
      "metadata": {
        "id": "l80pCZ32mjuC"
      },
      "execution_count": 1,
      "outputs": []
    },
    {
      "cell_type": "markdown",
      "source": [
        "*  **Mounting Drive**"
      ],
      "metadata": {
        "id": "5oklQwwWlW4w"
      }
    },
    {
      "cell_type": "code",
      "source": [
        "from google.colab import drive\n",
        "drive.mount('/content/drive')"
      ],
      "metadata": {
        "id": "3gYkOH2glhl0",
        "colab": {
          "base_uri": "https://localhost:8080/"
        },
        "outputId": "75dd230d-9543-456f-f874-037dc3e3426a"
      },
      "execution_count": 2,
      "outputs": [
        {
          "output_type": "stream",
          "name": "stdout",
          "text": [
            "Mounted at /content/drive\n"
          ]
        }
      ]
    },
    {
      "cell_type": "markdown",
      "source": [
        "### **Importing Requriements**"
      ],
      "metadata": {
        "id": "I2ilLFlzmn0e"
      }
    },
    {
      "cell_type": "code",
      "source": [
        "import os\n",
        "import cv2\n",
        "import numpy as np\n",
        "from keras.preprocessing import image\n",
        "from keras.applications.vgg16 import VGG16, preprocess_input\n",
        "from sklearn.metrics.pairwise import cosine_similarity\n",
        "from shutil import copyfile"
      ],
      "metadata": {
        "id": "yVi6uCubn1m8"
      },
      "execution_count": 3,
      "outputs": []
    },
    {
      "cell_type": "markdown",
      "source": [
        "- **Loading and Processing The Images**"
      ],
      "metadata": {
        "id": "5XJvh8cJn73R"
      }
    },
    {
      "cell_type": "code",
      "source": [
        "def load_and_preprocess_image(img_path, target_size=(224, 224)):\n",
        "    img = image.load_img(img_path, target_size=target_size)\n",
        "    img_array = image.img_to_array(img)\n",
        "    img_array = np.expand_dims(img_array, axis=0)\n",
        "    img_array = preprocess_input(img_array)\n",
        "    return img_array"
      ],
      "metadata": {
        "id": "aBgbQWhYoDPX"
      },
      "execution_count": 4,
      "outputs": []
    },
    {
      "cell_type": "markdown",
      "source": [
        "- **Extracting Image Feature**"
      ],
      "metadata": {
        "id": "UnXTj_wyoIjo"
      }
    },
    {
      "cell_type": "code",
      "source": [
        "def extract_features(img_path, model):\n",
        "    img_array = load_and_preprocess_image(img_path)\n",
        "    features = model.predict(img_array)\n",
        "    return features.flatten()"
      ],
      "metadata": {
        "id": "KGtM5FWZoEBf"
      },
      "execution_count": 5,
      "outputs": []
    },
    {
      "cell_type": "markdown",
      "source": [
        "- **Calculating Cosine Similarity**"
      ],
      "metadata": {
        "id": "rh-g-PyToaif"
      }
    },
    {
      "cell_type": "code",
      "source": [
        "def get_cosine_similarity(feature1, feature2):\n",
        "    similarity = cosine_similarity([feature1], [feature2])\n",
        "    return similarity[0][0]"
      ],
      "metadata": {
        "id": "znWJ1oeEoQ0d"
      },
      "execution_count": 6,
      "outputs": []
    },
    {
      "cell_type": "markdown",
      "source": [
        "- **Finding All The Similar Images To The Given Sample**"
      ],
      "metadata": {
        "id": "tTaENiUXoqtK"
      }
    },
    {
      "cell_type": "code",
      "source": [
        "def find_and_group_similar_images(sample_image_folder,\n",
        "                                  dataset_folder,\n",
        "                                  threshold=0.8,\n",
        "                                  output_folder=\"similar_images_output\"):\n",
        "\n",
        "    if not os.path.exists(output_folder):\n",
        "        os.makedirs(output_folder)\n",
        "\n",
        "    # Load pre-trained VGG16 model\n",
        "    base_model = VGG16(weights='imagenet', include_top=False)\n",
        "\n",
        "    for sample_image_filename in os.listdir(sample_image_folder):\n",
        "        if sample_image_filename.endswith(('.jpg', '.jpeg', '.png')):\n",
        "            sample_image_path = os.path.join(sample_image_folder,\n",
        "                                             sample_image_filename)\n",
        "\n",
        "            # Create a folder for each sample image\n",
        "            sample_output_folder = os.path.join(\n",
        "                output_folder,\n",
        "                os.path.splitext(sample_image_filename)[0])\n",
        "\n",
        "            if not os.path.exists(sample_output_folder):\n",
        "                os.makedirs(sample_output_folder)\n",
        "\n",
        "            # Extract features for the sample image\n",
        "            sample_features = extract_features(sample_image_path,\n",
        "                                               base_model)\n",
        "\n",
        "            for dataset_image_filename in os.listdir(dataset_folder):\n",
        "                if dataset_image_filename.endswith(('.jpg',\n",
        "                                                    '.jpeg',\n",
        "                                                    '.png')):\n",
        "\n",
        "                    dataset_image_path = os.path.join(dataset_folder,\n",
        "                                            dataset_image_filename)\n",
        "\n",
        "                    current_features = extract_features(\n",
        "                        dataset_image_path,\n",
        "                        base_model)\n",
        "\n",
        "                    # Calculate cosine similarity\n",
        "                    similarity = get_cosine_similarity(sample_features,\n",
        "                                                       current_features)\n",
        "\n",
        "                    if similarity > threshold:\n",
        "                        output_path = os.path.join(sample_output_folder,\n",
        "                                                   dataset_image_filename)\n",
        "                        copyfile(dataset_image_path, output_path)\n",
        "                        print(f'''\n",
        "                        Similar Img {sample_image_filename}:\n",
        "                        {dataset_image_filename}''')\n",
        "\n",
        "                        print(f\"Similarity: {similarity:.2f})\")"
      ],
      "metadata": {
        "id": "32RlQDqWopc4"
      },
      "execution_count": 7,
      "outputs": []
    },
    {
      "cell_type": "markdown",
      "source": [
        "- `main-loop`\n",
        "\n"
      ],
      "metadata": {
        "id": "xbvqDlXor3C9"
      }
    },
    {
      "cell_type": "code",
      "source": [
        "sample_image_folder_path = \"/content/drive/MyDrive/Colab Notebooks/Dataset/ImgDataset/SampleImg\"\n",
        "dataset_image_folder_path = \"/content/drive/MyDrive/Colab Notebooks/Dataset/ImgDataset\"\n",
        "similarity_threshold = 0.5\n",
        "output_folder_name = \"similar_images_output\""
      ],
      "metadata": {
        "id": "oAGt3sGa2QQ1"
      },
      "execution_count": 8,
      "outputs": []
    },
    {
      "cell_type": "code",
      "source": [
        "find_and_group_similar_images(sample_image_folder_path, dataset_image_folder_path, similarity_threshold, output_folder_name)"
      ],
      "metadata": {
        "colab": {
          "base_uri": "https://localhost:8080/"
        },
        "id": "hj0guqvw2M4-",
        "outputId": "315f56fc-fc95-4738-aa61-70fc5bcb023a"
      },
      "execution_count": 9,
      "outputs": [
        {
          "output_type": "stream",
          "name": "stdout",
          "text": [
            "Downloading data from https://storage.googleapis.com/tensorflow/keras-applications/vgg16/vgg16_weights_tf_dim_ordering_tf_kernels_notop.h5\n",
            "58889256/58889256 [==============================] - 0s 0us/step\n",
            "1/1 [==============================] - 3s 3s/step\n",
            "1/1 [==============================] - 0s 19ms/step\n",
            "\n",
            "                        Similar Img sample_img1.jpg:\n",
            "                        sample_img1.jpg\n",
            "Similarity: 1.00)\n",
            "1/1 [==============================] - 0s 29ms/step\n",
            "\n",
            "                        Similar Img sample_img1.jpg:\n",
            "                        sample_img3.jpg\n",
            "Similarity: 0.56)\n",
            "1/1 [==============================] - 0s 28ms/step\n",
            "1/1 [==============================] - 0s 34ms/step\n",
            "1/1 [==============================] - 0s 28ms/step\n",
            "1/1 [==============================] - 0s 29ms/step\n",
            "1/1 [==============================] - 0s 28ms/step\n",
            "1/1 [==============================] - 0s 28ms/step\n",
            "\n",
            "                        Similar Img sample_img1.jpg:\n",
            "                        sample_img2.jpg\n",
            "Similarity: 0.61)\n",
            "1/1 [==============================] - 0s 27ms/step\n"
          ]
        }
      ]
    }
  ]
}